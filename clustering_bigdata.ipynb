{
  "nbformat": 4,
  "nbformat_minor": 0,
  "metadata": {
    "colab": {
      "name": "clustering bigdata.ipynb",
      "provenance": [],
      "collapsed_sections": [],
      "authorship_tag": "ABX9TyMaSyaO3quLZUZre5cWMxuv",
      "include_colab_link": true
    },
    "kernelspec": {
      "name": "python3",
      "display_name": "Python 3"
    },
    "language_info": {
      "name": "python"
    }
  },
  "cells": [
    {
      "cell_type": "markdown",
      "metadata": {
        "id": "view-in-github",
        "colab_type": "text"
      },
      "source": [
        "<a href=\"https://colab.research.google.com/github/olalekanowolabi64/bug-free-octo-invention/blob/master/clustering_bigdata.ipynb\" target=\"_parent\"><img src=\"https://colab.research.google.com/assets/colab-badge.svg\" alt=\"Open In Colab\"/></a>"
      ]
    },
    {
      "cell_type": "code",
      "execution_count": 1,
      "metadata": {
        "colab": {
          "base_uri": "https://localhost:8080/"
        },
        "id": "mbvEAhc8zesj",
        "outputId": "263be358-1be4-45dd-f85e-f3e8c57f6ae8"
      },
      "outputs": [
        {
          "output_type": "stream",
          "name": "stdout",
          "text": [
            "Reading package lists... Done\n",
            "Building dependency tree       \n",
            "Reading state information... Done\n",
            "The following package was automatically installed and is no longer required:\n",
            "  libnvidia-common-460\n",
            "Use 'apt autoremove' to remove it.\n",
            "The following additional packages will be installed:\n",
            "  openjdk-8-jre-headless\n",
            "Suggested packages:\n",
            "  openjdk-8-demo openjdk-8-source libnss-mdns fonts-dejavu-extra\n",
            "  fonts-ipafont-gothic fonts-ipafont-mincho fonts-wqy-microhei\n",
            "  fonts-wqy-zenhei fonts-indic\n",
            "The following NEW packages will be installed:\n",
            "  openjdk-8-jdk-headless openjdk-8-jre-headless\n",
            "0 upgraded, 2 newly installed, 0 to remove and 42 not upgraded.\n",
            "Need to get 36.5 MB of archives.\n",
            "After this operation, 143 MB of additional disk space will be used.\n",
            "Get:1 http://archive.ubuntu.com/ubuntu bionic-updates/universe amd64 openjdk-8-jre-headless amd64 8u312-b07-0ubuntu1~18.04 [28.2 MB]\n",
            "Get:2 http://archive.ubuntu.com/ubuntu bionic-updates/universe amd64 openjdk-8-jdk-headless amd64 8u312-b07-0ubuntu1~18.04 [8,298 kB]\n",
            "Fetched 36.5 MB in 4s (8,495 kB/s)\n",
            "Selecting previously unselected package openjdk-8-jre-headless:amd64.\n",
            "(Reading database ... 155629 files and directories currently installed.)\n",
            "Preparing to unpack .../openjdk-8-jre-headless_8u312-b07-0ubuntu1~18.04_amd64.deb ...\n",
            "Unpacking openjdk-8-jre-headless:amd64 (8u312-b07-0ubuntu1~18.04) ...\n",
            "Selecting previously unselected package openjdk-8-jdk-headless:amd64.\n",
            "Preparing to unpack .../openjdk-8-jdk-headless_8u312-b07-0ubuntu1~18.04_amd64.deb ...\n",
            "Unpacking openjdk-8-jdk-headless:amd64 (8u312-b07-0ubuntu1~18.04) ...\n",
            "Setting up openjdk-8-jre-headless:amd64 (8u312-b07-0ubuntu1~18.04) ...\n",
            "update-alternatives: using /usr/lib/jvm/java-8-openjdk-amd64/jre/bin/orbd to provide /usr/bin/orbd (orbd) in auto mode\n",
            "update-alternatives: using /usr/lib/jvm/java-8-openjdk-amd64/jre/bin/servertool to provide /usr/bin/servertool (servertool) in auto mode\n",
            "update-alternatives: using /usr/lib/jvm/java-8-openjdk-amd64/jre/bin/tnameserv to provide /usr/bin/tnameserv (tnameserv) in auto mode\n",
            "Setting up openjdk-8-jdk-headless:amd64 (8u312-b07-0ubuntu1~18.04) ...\n",
            "update-alternatives: using /usr/lib/jvm/java-8-openjdk-amd64/bin/idlj to provide /usr/bin/idlj (idlj) in auto mode\n",
            "update-alternatives: using /usr/lib/jvm/java-8-openjdk-amd64/bin/wsimport to provide /usr/bin/wsimport (wsimport) in auto mode\n",
            "update-alternatives: using /usr/lib/jvm/java-8-openjdk-amd64/bin/jsadebugd to provide /usr/bin/jsadebugd (jsadebugd) in auto mode\n",
            "update-alternatives: using /usr/lib/jvm/java-8-openjdk-amd64/bin/native2ascii to provide /usr/bin/native2ascii (native2ascii) in auto mode\n",
            "update-alternatives: using /usr/lib/jvm/java-8-openjdk-amd64/bin/javah to provide /usr/bin/javah (javah) in auto mode\n",
            "update-alternatives: using /usr/lib/jvm/java-8-openjdk-amd64/bin/hsdb to provide /usr/bin/hsdb (hsdb) in auto mode\n",
            "update-alternatives: using /usr/lib/jvm/java-8-openjdk-amd64/bin/clhsdb to provide /usr/bin/clhsdb (clhsdb) in auto mode\n",
            "update-alternatives: using /usr/lib/jvm/java-8-openjdk-amd64/bin/xjc to provide /usr/bin/xjc (xjc) in auto mode\n",
            "update-alternatives: using /usr/lib/jvm/java-8-openjdk-amd64/bin/schemagen to provide /usr/bin/schemagen (schemagen) in auto mode\n",
            "update-alternatives: using /usr/lib/jvm/java-8-openjdk-amd64/bin/extcheck to provide /usr/bin/extcheck (extcheck) in auto mode\n",
            "update-alternatives: using /usr/lib/jvm/java-8-openjdk-amd64/bin/jhat to provide /usr/bin/jhat (jhat) in auto mode\n",
            "update-alternatives: using /usr/lib/jvm/java-8-openjdk-amd64/bin/wsgen to provide /usr/bin/wsgen (wsgen) in auto mode\n",
            "--2022-05-20 01:25:08--  https://archive.apache.org/dist/spark/spark-3.2.1/spark-3.2.1-bin-hadoop2.7.tgz\n",
            "Resolving archive.apache.org (archive.apache.org)... 138.201.131.134, 2a01:4f8:172:2ec5::2\n",
            "Connecting to archive.apache.org (archive.apache.org)|138.201.131.134|:443... connected.\n",
            "HTTP request sent, awaiting response... 200 OK\n",
            "Length: 272637746 (260M) [application/x-gzip]\n",
            "Saving to: ‘spark-3.2.1-bin-hadoop2.7.tgz’\n",
            "\n",
            "spark-3.2.1-bin-had 100%[===================>] 260.01M  11.3MB/s    in 25s     \n",
            "\n",
            "2022-05-20 01:25:35 (10.3 MB/s) - ‘spark-3.2.1-bin-hadoop2.7.tgz’ saved [272637746/272637746]\n",
            "\n"
          ]
        }
      ],
      "source": [
        "!apt-get install openjdk-8-jdk-headless\n",
        "\n",
        "!wget https://archive.apache.org/dist/spark/spark-3.2.1/spark-3.2.1-bin-hadoop2.7.tgz\n",
        "\n",
        "!tar xf /content/spark-3.2.1-bin-hadoop2.7.tgz\n",
        "\n",
        "!pip install -q findspark"
      ]
    },
    {
      "cell_type": "code",
      "source": [
        "import os\n",
        "os.environ[\"JAVA_HOME\"] = \"/usr/lib/jvm/java-8-openjdk-amd64\"\n",
        "os.environ[\"SPARK_HOME\"] = \"/content/spark-3.2.1-bin-hadoop2.7\"\n",
        "\n",
        "import findspark\n",
        "findspark.init()\n",
        "findspark.find()\n",
        "\n",
        "import pyspark\n",
        "import numpy as np\n",
        "import pandas as pd"
      ],
      "metadata": {
        "id": "_A5-rPvv0Q1B"
      },
      "execution_count": 2,
      "outputs": []
    },
    {
      "cell_type": "markdown",
      "source": [
        "\"\"\"#####loading the dataset#######\"\"\""
      ],
      "metadata": {
        "id": "CqSf6qoe064h"
      }
    },
    {
      "cell_type": "code",
      "source": [
        "from pyspark.sql import SparkSession\n",
        "\n",
        "spark = SparkSession.builder.master('local[*]').appName('Customer_Segmants').getOrCreate()\n",
        "\n",
        "# Read data from CSV file\n",
        "#you can download it from here:   https://raw.githubusercontent.com/besherh/BigDataManagement/main/SparkCSV/CC_GENERAL.csv\n",
        "customer_df = spark.read.csv(\"/content/combined-data.csv\", header=True, inferSchema=True, nullValue='NULL')\n",
        "\n",
        "customer_df.show(5)\n",
        "\n",
        "customer_df.printSchema()\n",
        "\n",
        "customer_df.count()\n",
        "\n",
        "from pyspark.sql.functions import col,isnan, when, count\n",
        "\n",
        "customer_df.na.drop().count()\n",
        "\n",
        "customer_df.na.drop(how=\"any\", thresh=2).show()\n",
        "\n",
        "\n",
        "\n",
        "\n"
      ],
      "metadata": {
        "colab": {
          "base_uri": "https://localhost:8080/"
        },
        "id": "ysKyne-X0ZWx",
        "outputId": "b25d60a5-285a-49c3-e278-75a5774864e7"
      },
      "execution_count": 3,
      "outputs": [
        {
          "output_type": "stream",
          "name": "stdout",
          "text": [
            "+------+-------------+---------+------------+----------------+----------+-----------+---------+\n",
            "|userId|userSessionId|teamLevel|platformType|count_gameclicks|count_hits|count_buyId|avg_price|\n",
            "+------+-------------+---------+------------+----------------+----------+-----------+---------+\n",
            "|   812|         5648|        1|     android|              69|         8|       null|     null|\n",
            "|  1658|         5649|        1|      iphone|              31|         5|       null|     null|\n",
            "|  1589|         5650|        1|      iphone|              26|         2|       null|     null|\n",
            "|  1863|         5651|        1|     android|              35|         4|       null|     null|\n",
            "|   937|         5652|        1|     android|              39|         0|          1|      1.0|\n",
            "+------+-------------+---------+------------+----------------+----------+-----------+---------+\n",
            "only showing top 5 rows\n",
            "\n",
            "root\n",
            " |-- userId: integer (nullable = true)\n",
            " |-- userSessionId: integer (nullable = true)\n",
            " |-- teamLevel: integer (nullable = true)\n",
            " |-- platformType: string (nullable = true)\n",
            " |-- count_gameclicks: integer (nullable = true)\n",
            " |-- count_hits: integer (nullable = true)\n",
            " |-- count_buyId: integer (nullable = true)\n",
            " |-- avg_price: double (nullable = true)\n",
            "\n",
            "+------+-------------+---------+------------+----------------+----------+-----------+---------+\n",
            "|userId|userSessionId|teamLevel|platformType|count_gameclicks|count_hits|count_buyId|avg_price|\n",
            "+------+-------------+---------+------------+----------------+----------+-----------+---------+\n",
            "|   812|         5648|        1|     android|              69|         8|       null|     null|\n",
            "|  1658|         5649|        1|      iphone|              31|         5|       null|     null|\n",
            "|  1589|         5650|        1|      iphone|              26|         2|       null|     null|\n",
            "|  1863|         5651|        1|     android|              35|         4|       null|     null|\n",
            "|   937|         5652|        1|     android|              39|         0|          1|      1.0|\n",
            "|   342|         5653|        1|     android|              36|         5|       null|     null|\n",
            "|   849|         5654|        1|      iphone|              40|         5|       null|     null|\n",
            "|  1277|         5655|        1|     windows|              46|         8|       null|     null|\n",
            "|  2203|         5656|        1|     android|              68|         6|       null|     null|\n",
            "|   585|         5657|        1|      iphone|              76|         9|       null|     null|\n",
            "|  1370|         5658|        1|      iphone|              69|         6|       null|     null|\n",
            "|  1623|         5659|        1|      iphone|             129|         9|          1|     10.0|\n",
            "|   881|         5660|        1|      iphone|              36|         6|       null|     null|\n",
            "|    83|         5661|        1|     android|             102|        14|          1|      5.0|\n",
            "|   453|         5662|        1|     android|             102|         7|       null|     null|\n",
            "|  1966|         5663|        1|      iphone|              63|         8|       null|     null|\n",
            "|  1073|         5664|        1|     android|             141|        21|       null|     null|\n",
            "|   121|         5665|        1|     android|              39|         4|          1|      3.0|\n",
            "|   462|         5666|        1|     android|              90|        10|          1|      3.0|\n",
            "|   708|         5667|        1|      iphone|              32|         2|       null|     null|\n",
            "+------+-------------+---------+------------+----------------+----------+-----------+---------+\n",
            "only showing top 20 rows\n",
            "\n"
          ]
        }
      ]
    },
    {
      "cell_type": "code",
      "source": [
        "customer_df.na.drop().count()"
      ],
      "metadata": {
        "colab": {
          "base_uri": "https://localhost:8080/"
        },
        "id": "orw42UBCLIvr",
        "outputId": "c4959097-eb7f-4db2-b0a4-c51a96ee30a8"
      },
      "execution_count": 4,
      "outputs": [
        {
          "output_type": "execute_result",
          "data": {
            "text/plain": [
              "1411"
            ]
          },
          "metadata": {},
          "execution_count": 4
        }
      ]
    },
    {
      "cell_type": "code",
      "source": [
        "from pyspark.ml.feature import Imputer"
      ],
      "metadata": {
        "id": "95z8lWQ42rtg"
      },
      "execution_count": 5,
      "outputs": []
    },
    {
      "cell_type": "code",
      "source": [
        "from pyspark.ml.feature import Imputer\n",
        "\n",
        "imputer = Imputer(\n",
        "    inputCols=['count_buyId', 'avg_price'], \n",
        "    outputCols=[\"{}_imputed\".format(c) for c in ['count_buyId', 'avg_price']]\n",
        "    ).setStrategy(\"mean\")\n",
        "\n",
        "#Add imputation cols to customer_df\n",
        "customer_df2 = imputer.fit(customer_df).transform(customer_df)\n",
        "\n",
        "customer_df2.show()\n",
        "\n",
        "customer_df2.printSchema()\n"
      ],
      "metadata": {
        "colab": {
          "base_uri": "https://localhost:8080/"
        },
        "id": "ool34m5p2nCt",
        "outputId": "5f7f5f8c-c386-42bc-d3de-15ca3e8eaada"
      },
      "execution_count": 7,
      "outputs": [
        {
          "output_type": "stream",
          "name": "stdout",
          "text": [
            "+------+-------------+---------+------------+----------------+----------+-----------+---------+-------------------+-----------------+\n",
            "|userId|userSessionId|teamLevel|platformType|count_gameclicks|count_hits|count_buyId|avg_price|count_buyId_imputed|avg_price_imputed|\n",
            "+------+-------------+---------+------------+----------------+----------+-----------+---------+-------------------+-----------------+\n",
            "|   812|         5648|        1|     android|              69|         8|       null|     null|                  1|7.214323175053155|\n",
            "|  1658|         5649|        1|      iphone|              31|         5|       null|     null|                  1|7.214323175053155|\n",
            "|  1589|         5650|        1|      iphone|              26|         2|       null|     null|                  1|7.214323175053155|\n",
            "|  1863|         5651|        1|     android|              35|         4|       null|     null|                  1|7.214323175053155|\n",
            "|   937|         5652|        1|     android|              39|         0|          1|      1.0|                  1|              1.0|\n",
            "|   342|         5653|        1|     android|              36|         5|       null|     null|                  1|7.214323175053155|\n",
            "|   849|         5654|        1|      iphone|              40|         5|       null|     null|                  1|7.214323175053155|\n",
            "|  1277|         5655|        1|     windows|              46|         8|       null|     null|                  1|7.214323175053155|\n",
            "|  2203|         5656|        1|     android|              68|         6|       null|     null|                  1|7.214323175053155|\n",
            "|   585|         5657|        1|      iphone|              76|         9|       null|     null|                  1|7.214323175053155|\n",
            "|  1370|         5658|        1|      iphone|              69|         6|       null|     null|                  1|7.214323175053155|\n",
            "|  1623|         5659|        1|      iphone|             129|         9|          1|     10.0|                  1|             10.0|\n",
            "|   881|         5660|        1|      iphone|              36|         6|       null|     null|                  1|7.214323175053155|\n",
            "|    83|         5661|        1|     android|             102|        14|          1|      5.0|                  1|              5.0|\n",
            "|   453|         5662|        1|     android|             102|         7|       null|     null|                  1|7.214323175053155|\n",
            "|  1966|         5663|        1|      iphone|              63|         8|       null|     null|                  1|7.214323175053155|\n",
            "|  1073|         5664|        1|     android|             141|        21|       null|     null|                  1|7.214323175053155|\n",
            "|   121|         5665|        1|     android|              39|         4|          1|      3.0|                  1|              3.0|\n",
            "|   462|         5666|        1|     android|              90|        10|          1|      3.0|                  1|              3.0|\n",
            "|   708|         5667|        1|      iphone|              32|         2|       null|     null|                  1|7.214323175053155|\n",
            "+------+-------------+---------+------------+----------------+----------+-----------+---------+-------------------+-----------------+\n",
            "only showing top 20 rows\n",
            "\n",
            "root\n",
            " |-- userId: integer (nullable = true)\n",
            " |-- userSessionId: integer (nullable = true)\n",
            " |-- teamLevel: integer (nullable = true)\n",
            " |-- platformType: string (nullable = true)\n",
            " |-- count_gameclicks: integer (nullable = true)\n",
            " |-- count_hits: integer (nullable = true)\n",
            " |-- count_buyId: integer (nullable = true)\n",
            " |-- avg_price: double (nullable = true)\n",
            " |-- count_buyId_imputed: integer (nullable = true)\n",
            " |-- avg_price_imputed: double (nullable = true)\n",
            "\n"
          ]
        }
      ]
    },
    {
      "cell_type": "markdown",
      "source": [
        "##from pyspark.sql import functions as F"
      ],
      "metadata": {
        "id": "srgF8g_i5SSM"
      }
    },
    {
      "cell_type": "markdown",
      "source": [
        ""
      ],
      "metadata": {
        "id": "vjQWc0IF5PVf"
      }
    },
    {
      "cell_type": "code",
      "source": [
        "from pyspark.sql import functions as F"
      ],
      "metadata": {
        "id": "_CH6aQ0K52d4"
      },
      "execution_count": 8,
      "outputs": []
    },
    {
      "cell_type": "code",
      "source": [
        "##from pyspark.sql import functions as F\n",
        "categories = customer_df2.select(\"platformType\").distinct().rdd.flatMap(lambda x: x).collect()\n",
        "\n",
        "exprs = [F.when(F.col(\"platformType\") == category, 1).otherwise(0).alias(category)\n",
        "         for category in categories]\n",
        "\n",
        "customer_df3 = customer_df2.select( \"count_hits\" , \"count_gameclicks\" , \"avg_price_imputed\" ,  *exprs)\n",
        "\n",
        "customer_df3=customer_df2.select(\"count_gameclicks\",\"count_hits\",\"avg_price_imputed\")\n",
        "\n",
        "customer_df3.show()"
      ],
      "metadata": {
        "colab": {
          "base_uri": "https://localhost:8080/"
        },
        "id": "D3_gxFMu5OmU",
        "outputId": "12869607-4340-4647-dbca-02c6bd8f9286"
      },
      "execution_count": 9,
      "outputs": [
        {
          "output_type": "stream",
          "name": "stdout",
          "text": [
            "+----------------+----------+-----------------+\n",
            "|count_gameclicks|count_hits|avg_price_imputed|\n",
            "+----------------+----------+-----------------+\n",
            "|              69|         8|7.214323175053155|\n",
            "|              31|         5|7.214323175053155|\n",
            "|              26|         2|7.214323175053155|\n",
            "|              35|         4|7.214323175053155|\n",
            "|              39|         0|              1.0|\n",
            "|              36|         5|7.214323175053155|\n",
            "|              40|         5|7.214323175053155|\n",
            "|              46|         8|7.214323175053155|\n",
            "|              68|         6|7.214323175053155|\n",
            "|              76|         9|7.214323175053155|\n",
            "|              69|         6|7.214323175053155|\n",
            "|             129|         9|             10.0|\n",
            "|              36|         6|7.214323175053155|\n",
            "|             102|        14|              5.0|\n",
            "|             102|         7|7.214323175053155|\n",
            "|              63|         8|7.214323175053155|\n",
            "|             141|        21|7.214323175053155|\n",
            "|              39|         4|              3.0|\n",
            "|              90|        10|              3.0|\n",
            "|              32|         2|7.214323175053155|\n",
            "+----------------+----------+-----------------+\n",
            "only showing top 20 rows\n",
            "\n"
          ]
        }
      ]
    },
    {
      "cell_type": "code",
      "source": [
        "from pyspark.ml.feature import VectorAssembler\n",
        "customer_df3.columns\n",
        "assemble=VectorAssembler(inputCols=[\n",
        " \"count_gameclicks\",\n",
        " \"count_hits\",\n",
        " \"avg_price_imputed\",\n",
        " ], outputCol='features')\n",
        "assembled_data=assemble.transform(customer_df3)\n",
        "assembled_data.show(10)\n",
        "\n",
        "from pyspark.ml.feature import StandardScaler\n",
        "scale=StandardScaler(inputCol='features',outputCol='standardized')\n",
        "data_scale=scale.fit(assembled_data)\n",
        "data_scale_output=data_scale.transform(assembled_data)\n",
        "data_scale_output.show(20)\n"
      ],
      "metadata": {
        "colab": {
          "base_uri": "https://localhost:8080/"
        },
        "id": "fHZI0rvk6BgU",
        "outputId": "a0d28200-3cba-448a-9c73-6a7911de4f40"
      },
      "execution_count": 12,
      "outputs": [
        {
          "output_type": "stream",
          "name": "stdout",
          "text": [
            "+----------------+----------+-----------------+--------------------+\n",
            "|count_gameclicks|count_hits|avg_price_imputed|            features|\n",
            "+----------------+----------+-----------------+--------------------+\n",
            "|              69|         8|7.214323175053155|[69.0,8.0,7.21432...|\n",
            "|              31|         5|7.214323175053155|[31.0,5.0,7.21432...|\n",
            "|              26|         2|7.214323175053155|[26.0,2.0,7.21432...|\n",
            "|              35|         4|7.214323175053155|[35.0,4.0,7.21432...|\n",
            "|              39|         0|              1.0|      [39.0,0.0,1.0]|\n",
            "|              36|         5|7.214323175053155|[36.0,5.0,7.21432...|\n",
            "|              40|         5|7.214323175053155|[40.0,5.0,7.21432...|\n",
            "|              46|         8|7.214323175053155|[46.0,8.0,7.21432...|\n",
            "|              68|         6|7.214323175053155|[68.0,6.0,7.21432...|\n",
            "|              76|         9|7.214323175053155|[76.0,9.0,7.21432...|\n",
            "+----------------+----------+-----------------+--------------------+\n",
            "only showing top 10 rows\n",
            "\n",
            "+----------------+----------+-----------------+--------------------+--------------------+\n",
            "|count_gameclicks|count_hits|avg_price_imputed|            features|        standardized|\n",
            "+----------------+----------+-----------------+--------------------+--------------------+\n",
            "|              69|         8|7.214323175053155|[69.0,8.0,7.21432...|[0.54380637390174...|\n",
            "|              31|         5|7.214323175053155|[31.0,5.0,7.21432...|[0.24431880566599...|\n",
            "|              26|         2|7.214323175053155|[26.0,2.0,7.21432...|[0.20491254668761...|\n",
            "|              35|         4|7.214323175053155|[35.0,4.0,7.21432...|[0.27584381284870...|\n",
            "|              39|         0|              1.0|      [39.0,0.0,1.0]|[0.30736882003141...|\n",
            "|              36|         5|7.214323175053155|[36.0,5.0,7.21432...|[0.28372506464438...|\n",
            "|              40|         5|7.214323175053155|[40.0,5.0,7.21432...|[0.31525007182709...|\n",
            "|              46|         8|7.214323175053155|[46.0,8.0,7.21432...|[0.36253758260116...|\n",
            "|              68|         6|7.214323175053155|[68.0,6.0,7.21432...|[0.53592512210606...|\n",
            "|              76|         9|7.214323175053155|[76.0,9.0,7.21432...|[0.59897513647148...|\n",
            "|              69|         6|7.214323175053155|[69.0,6.0,7.21432...|[0.54380637390174...|\n",
            "|             129|         9|             10.0|    [129.0,9.0,10.0]|[1.01668148164238...|\n",
            "|              36|         6|7.214323175053155|[36.0,6.0,7.21432...|[0.28372506464438...|\n",
            "|             102|        14|              5.0|    [102.0,14.0,5.0]|[0.80388768315909...|\n",
            "|             102|         7|7.214323175053155|[102.0,7.0,7.2143...|[0.80388768315909...|\n",
            "|              63|         8|7.214323175053155|[63.0,8.0,7.21432...|[0.49651886312767...|\n",
            "|             141|        21|7.214323175053155|[141.0,21.0,7.214...|[1.11125650319051...|\n",
            "|              39|         4|              3.0|      [39.0,4.0,3.0]|[0.30736882003141...|\n",
            "|              90|        10|              3.0|     [90.0,10.0,3.0]|[0.70931266161096...|\n",
            "|              32|         2|7.214323175053155|[32.0,2.0,7.21432...|[0.25220005746167...|\n",
            "+----------------+----------+-----------------+--------------------+--------------------+\n",
            "only showing top 20 rows\n",
            "\n"
          ]
        }
      ]
    },
    {
      "cell_type": "code",
      "source": [
        "from pyspark.ml.clustering import KMeans\n",
        "from pyspark.ml.evaluation import ClusteringEvaluator\n",
        "silhouette_score=[]\n",
        "evaluator = ClusteringEvaluator(predictionCol='prediction', featuresCol='standardized', \\\n",
        "                                metricName='silhouette', distanceMeasure='squaredEuclidean')\n",
        "for i in range(2,10):\n",
        "    KMeans_algo=KMeans(featuresCol='standardized', k=i)\n",
        "    KMeans_fit=KMeans_algo.fit(data_scale_output)\n",
        "    output=KMeans_fit.transform(data_scale_output)\n",
        "    score=evaluator.evaluate(output)\n",
        "    silhouette_score.append(score)\n",
        "    print(\"Silhouette Score:\",score)"
      ],
      "metadata": {
        "colab": {
          "base_uri": "https://localhost:8080/"
        },
        "id": "UgqnQcG56RB4",
        "outputId": "853609d4-7f91-4d44-c6da-806c602229ca"
      },
      "execution_count": 13,
      "outputs": [
        {
          "output_type": "stream",
          "name": "stdout",
          "text": [
            "Silhouette Score: 0.7078208111490385\n",
            "Silhouette Score: 0.7933619089102762\n",
            "Silhouette Score: 0.7189021451892604\n",
            "Silhouette Score: 0.6356434454139174\n",
            "Silhouette Score: 0.6372311609806771\n",
            "Silhouette Score: 0.6192124314350702\n",
            "Silhouette Score: 0.5975819438567699\n",
            "Silhouette Score: 0.4989328492913513\n"
          ]
        }
      ]
    },
    {
      "cell_type": "code",
      "source": [
        "#Visualizing the silhouette scores in a plot\n",
        "import matplotlib.pyplot as plt\n",
        "fig, ax = plt.subplots(1,1, figsize =(8,6))\n",
        "ax.plot(range(2,10),silhouette_score)\n",
        "ax.set_xlabel('k')\n",
        "ax.set_ylabel('cost')\n",
        "\n"
      ],
      "metadata": {
        "colab": {
          "base_uri": "https://localhost:8080/",
          "height": 405
        },
        "id": "cMx8Wq-u6gmE",
        "outputId": "264f976b-67d1-4525-981b-158f68986963"
      },
      "execution_count": 14,
      "outputs": [
        {
          "output_type": "execute_result",
          "data": {
            "text/plain": [
              "Text(0, 0.5, 'cost')"
            ]
          },
          "metadata": {},
          "execution_count": 14
        },
        {
          "output_type": "display_data",
          "data": {
            "text/plain": [
              "<Figure size 576x432 with 1 Axes>"
            ],
            "image/png": "[encoded data removed]"
          },
          "metadata": {
            "needs_background": "light"
          }
        }
      ]
    },
    {
      "cell_type": "code",
      "source": [
        "KMeans_=KMeans(featuresCol='features', k=3) \n",
        "KMeans_Model=KMeans_.fit(data_scale_output)\n",
        "KMeans_Assignments=KMeans_Model.transform(data_scale_output)\n",
        "\n",
        "centers = KMeans_Model.clusterCenters()\n",
        "centers\n",
        "\n",
        "KMeans_Assignments.show(1)\n",
        "\n",
        "from pyspark.ml.feature import PCA as PCAml\n",
        "pca = PCAml(k=3, inputCol=\"features\", outputCol=\"prediction\")\n",
        "pca_model = pca.fit(data_scale_output)\n",
        "pca_transformed = pca_model.transform(data_scale_output)\n",
        "\n",
        "KMeans_Assignments.show(1)\n",
        "\n",
        "import numpy as np\n",
        "x_pca = np.array(pca_transformed.rdd.map(lambda row: row.prediction).collect())\n",
        "\n",
        "cluster_assignment = np.array(KMeans_Assignments.rdd.map(lambda row: row.prediction).collect()).reshape(-1,1)\n",
        "\n",
        "import seaborn as sns\n",
        "import matplotlib.pyplot as plt\n",
        "\n",
        "pca_data = np.hstack((x_pca,cluster_assignment))\n",
        "\n",
        "pca_df = pd.DataFrame(data=pca_data, columns=(\"count_gameclicks\", \"count_hits\",\"avg_price_imputed\",\"cluster_assignment\"))\n",
        "sns.FacetGrid(pca_df,hue=\"cluster_assignment\", height=6).map(plt.scatter, 'count_gameclicks', 'count_hits','avg_price_imputed' ).add_legend()\n",
        "\n",
        "plt.show()"
      ],
      "metadata": {
        "colab": {
          "base_uri": "https://localhost:8080/",
          "height": 739
        },
        "id": "ZNdsGqMM68V3",
        "outputId": "d5ffea51-507e-49f6-80c4-aa8d6db465c5"
      },
      "execution_count": 15,
      "outputs": [
        {
          "output_type": "stream",
          "name": "stdout",
          "text": [
            "+----------------+----------+-----------------+--------------------+--------------------+----------+\n",
            "|count_gameclicks|count_hits|avg_price_imputed|            features|        standardized|prediction|\n",
            "+----------------+----------+-----------------+--------------------+--------------------+----------+\n",
            "|              69|         8|7.214323175053155|[69.0,8.0,7.21432...|[0.54380637390174...|         0|\n",
            "+----------------+----------+-----------------+--------------------+--------------------+----------+\n",
            "only showing top 1 row\n",
            "\n",
            "+----------------+----------+-----------------+--------------------+--------------------+----------+\n",
            "|count_gameclicks|count_hits|avg_price_imputed|            features|        standardized|prediction|\n",
            "+----------------+----------+-----------------+--------------------+--------------------+----------+\n",
            "|              69|         8|7.214323175053155|[69.0,8.0,7.21432...|[0.54380637390174...|         0|\n",
            "+----------------+----------+-----------------+--------------------+--------------------+----------+\n",
            "only showing top 1 row\n",
            "\n"
          ]
        },
        {
          "output_type": "stream",
          "name": "stderr",
          "text": [
            "/usr/local/lib/python3.7/dist-packages/matplotlib/collections.py:885: RuntimeWarning: invalid value encountered in sqrt\n",
            "  scale = np.sqrt(self._sizes) * dpi / 72.0 * self._factor\n"
          ]
        },
        {
          "output_type": "display_data",
          "data": {
            "text/plain": [
              "<Figure size 537.375x432 with 1 Axes>"
            ],
            "image/png": "[encoded data removed]"
          },
          "metadata": {
            "needs_background": "light"
          }
        }
      ]
    },
    {
      "cell_type": "code",
      "source": [
        ""
      ],
      "metadata": {
        "id": "Yu5fTWdWvu0l"
      },
      "execution_count": null,
      "outputs": []
    },
    {
      "cell_type": "code",
      "source": [
        "###Add imputation cols to df\n",
        "customer_df2 = imputer.fit(customer_df).transform(customer_df)\n",
        "\n",
        "customer_df2.show()\n",
        "\n",
        "customer_df2.printSchema()\n",
        "\n"
      ],
      "metadata": {
        "colab": {
          "base_uri": "https://localhost:8080/"
        },
        "id": "7j8FrWM3C9tw",
        "outputId": "62bea642-986c-4a44-8545-3e50ef282357"
      },
      "execution_count": null,
      "outputs": [
        {
          "output_type": "stream",
          "name": "stdout",
          "text": [
            "+------+-------------+---------+------------+----------------+----------+-----------+---------+-------------------+-----------------+\n",
            "|userId|userSessionId|teamLevel|platformType|count_gameclicks|count_hits|count_buyId|avg_price|count_buyId_imputed|avg_price_imputed|\n",
            "+------+-------------+---------+------------+----------------+----------+-----------+---------+-------------------+-----------------+\n",
            "|   812|         5648|        1|     android|              69|         8|       null|     null|                  1|7.214323175053155|\n",
            "|  1658|         5649|        1|      iphone|              31|         5|       null|     null|                  1|7.214323175053155|\n",
            "|  1589|         5650|        1|      iphone|              26|         2|       null|     null|                  1|7.214323175053155|\n",
            "|  1863|         5651|        1|     android|              35|         4|       null|     null|                  1|7.214323175053155|\n",
            "|   937|         5652|        1|     android|              39|         0|          1|      1.0|                  1|              1.0|\n",
            "|   342|         5653|        1|     android|              36|         5|       null|     null|                  1|7.214323175053155|\n",
            "|   849|         5654|        1|      iphone|              40|         5|       null|     null|                  1|7.214323175053155|\n",
            "|  1277|         5655|        1|     windows|              46|         8|       null|     null|                  1|7.214323175053155|\n",
            "|  2203|         5656|        1|     android|              68|         6|       null|     null|                  1|7.214323175053155|\n",
            "|   585|         5657|        1|      iphone|              76|         9|       null|     null|                  1|7.214323175053155|\n",
            "|  1370|         5658|        1|      iphone|              69|         6|       null|     null|                  1|7.214323175053155|\n",
            "|  1623|         5659|        1|      iphone|             129|         9|          1|     10.0|                  1|             10.0|\n",
            "|   881|         5660|        1|      iphone|              36|         6|       null|     null|                  1|7.214323175053155|\n",
            "|    83|         5661|        1|     android|             102|        14|          1|      5.0|                  1|              5.0|\n",
            "|   453|         5662|        1|     android|             102|         7|       null|     null|                  1|7.214323175053155|\n",
            "|  1966|         5663|        1|      iphone|              63|         8|       null|     null|                  1|7.214323175053155|\n",
            "|  1073|         5664|        1|     android|             141|        21|       null|     null|                  1|7.214323175053155|\n",
            "|   121|         5665|        1|     android|              39|         4|          1|      3.0|                  1|              3.0|\n",
            "|   462|         5666|        1|     android|              90|        10|          1|      3.0|                  1|              3.0|\n",
            "|   708|         5667|        1|      iphone|              32|         2|       null|     null|                  1|7.214323175053155|\n",
            "+------+-------------+---------+------------+----------------+----------+-----------+---------+-------------------+-----------------+\n",
            "only showing top 20 rows\n",
            "\n",
            "root\n",
            " |-- userId: integer (nullable = true)\n",
            " |-- userSessionId: integer (nullable = true)\n",
            " |-- teamLevel: integer (nullable = true)\n",
            " |-- platformType: string (nullable = true)\n",
            " |-- count_gameclicks: integer (nullable = true)\n",
            " |-- count_hits: integer (nullable = true)\n",
            " |-- count_buyId: integer (nullable = true)\n",
            " |-- avg_price: double (nullable = true)\n",
            " |-- count_buyId_imputed: integer (nullable = true)\n",
            " |-- avg_price_imputed: double (nullable = true)\n",
            "\n"
          ]
        }
      ]
    },
    {
      "cell_type": "code",
      "source": [
        "#Create label whether user is a big player or small \n",
        "\n",
        "customer_df_players = customer_df2.withColumn('label', (customer_df2.count_gameclicks >=200).cast('integer'))\n",
        "\n",
        "customer_df_players.show(5)\n",
        "\n"
      ],
      "metadata": {
        "colab": {
          "base_uri": "https://localhost:8080/"
        },
        "id": "Tbfn6pZUEYAb",
        "outputId": "4e9256ac-e3c5-4093-ab39-13c53858ef74"
      },
      "execution_count": null,
      "outputs": [
        {
          "output_type": "stream",
          "name": "stdout",
          "text": [
            "+------+-------------+---------+------------+----------------+----------+-----------+---------+-------------------+-----------------+-----+\n",
            "|userId|userSessionId|teamLevel|platformType|count_gameclicks|count_hits|count_buyId|avg_price|count_buyId_imputed|avg_price_imputed|label|\n",
            "+------+-------------+---------+------------+----------------+----------+-----------+---------+-------------------+-----------------+-----+\n",
            "|   812|         5648|        1|     android|              69|         8|       null|     null|                  1|7.214323175053155|    0|\n",
            "|  1658|         5649|        1|      iphone|              31|         5|       null|     null|                  1|7.214323175053155|    0|\n",
            "|  1589|         5650|        1|      iphone|              26|         2|       null|     null|                  1|7.214323175053155|    0|\n",
            "|  1863|         5651|        1|     android|              35|         4|       null|     null|                  1|7.214323175053155|    0|\n",
            "|   937|         5652|        1|     android|              39|         0|          1|      1.0|                  1|              1.0|    0|\n",
            "+------+-------------+---------+------------+----------------+----------+-----------+---------+-------------------+-----------------+-----+\n",
            "only showing top 5 rows\n",
            "\n",
            "+------+-------------+---------+------------+----------+-----------+---------+-------------------+-----------------+-----+\n",
            "|userId|userSessionId|teamLevel|platformType|count_hits|count_buyId|avg_price|count_buyId_imputed|avg_price_imputed|label|\n",
            "+------+-------------+---------+------------+----------+-----------+---------+-------------------+-----------------+-----+\n",
            "|   812|         5648|        1|     android|         8|       null|     null|                  1|7.214323175053155|    0|\n",
            "|  1658|         5649|        1|      iphone|         5|       null|     null|                  1|7.214323175053155|    0|\n",
            "|  1589|         5650|        1|      iphone|         2|       null|     null|                  1|7.214323175053155|    0|\n",
            "|  1863|         5651|        1|     android|         4|       null|     null|                  1|7.214323175053155|    0|\n",
            "|   937|         5652|        1|     android|         0|          1|      1.0|                  1|              1.0|    0|\n",
            "+------+-------------+---------+------------+----------+-----------+---------+-------------------+-----------------+-----+\n",
            "only showing top 5 rows\n",
            "\n"
          ]
        }
      ]
    },
    {
      "cell_type": "code",
      "source": [
        "customer_df_players=customer_df_players.select(\"userId\",\"userSessionId\",\"teamLevel\",\"platformType\",\"count_hits\",\"count_buyId\",\"avg_price\",\"count_buyId_imputed\",\"avg_price_imputed\",\"label\")\n",
        "\n",
        "customer_df_players.show(5)"
      ],
      "metadata": {
        "colab": {
          "base_uri": "https://localhost:8080/"
        },
        "id": "l20Vg1wODApn",
        "outputId": "f5f8d884-117f-49bd-970f-f961832d9d8e"
      },
      "execution_count": null,
      "outputs": [
        {
          "output_type": "stream",
          "name": "stdout",
          "text": [
            "+------+-------------+---------+------------+----------+-----------+---------+-------------------+-----------------+-----+\n",
            "|userId|userSessionId|teamLevel|platformType|count_hits|count_buyId|avg_price|count_buyId_imputed|avg_price_imputed|label|\n",
            "+------+-------------+---------+------------+----------+-----------+---------+-------------------+-----------------+-----+\n",
            "|   812|         5648|        1|     android|         8|       null|     null|                  1|7.214323175053155|    0|\n",
            "|  1658|         5649|        1|      iphone|         5|       null|     null|                  1|7.214323175053155|    0|\n",
            "|  1589|         5650|        1|      iphone|         2|       null|     null|                  1|7.214323175053155|    0|\n",
            "|  1863|         5651|        1|     android|         4|       null|     null|                  1|7.214323175053155|    0|\n",
            "|   937|         5652|        1|     android|         0|          1|      1.0|                  1|              1.0|    0|\n",
            "+------+-------------+---------+------------+----------+-----------+---------+-------------------+-----------------+-----+\n",
            "only showing top 5 rows\n",
            "\n"
          ]
        }
      ]
    },
    {
      "cell_type": "code",
      "source": [
        "#Categorical transformation of PlatformType column to indexed numerical value\n",
        "\n",
        "from pyspark.ml.feature import StringIndexer\n",
        "\n",
        "# Create an indexer\n",
        "indexer = StringIndexer(inputCol='platformType', outputCol='platformType_idx')\n",
        "\n",
        "# Indexer identifies categories in the data\n",
        "indexer_model = indexer.fit(customer_df_players)\n",
        "\n",
        "# Indexer creates a new column with numeric index values\n",
        "platformType_idx = indexer_model.transform(customer_df_players)\n"
      ],
      "metadata": {
        "id": "qIDew1zVDnF7"
      },
      "execution_count": null,
      "outputs": []
    },
    {
      "cell_type": "code",
      "source": [
        "# Repeat the process for the other categorical feature\n",
        "#platformType_idx = StringIndexer(inputCol='platformType', outputCol='platformType_idx').fit(df_players).transform(df_players)\n",
        "\n",
        "#Categorical transformation of  teamlevel column to indexed numerical value\n",
        "\n",
        "from pyspark.ml.feature import StringIndexer\n",
        "\n",
        "# Create an indexer\n",
        "indexer = StringIndexer(inputCol='teamLevel', outputCol='teamLevel_idx')\n",
        "\n",
        "# Indexer identifies categories in the data\n",
        "indexer_model = indexer.fit(customer_df_players)\n",
        "\n",
        "teamLevel_idx = indexer_model.transform(customer_df_players)\n",
        "\n",
        "#Categorical transformation of  teamlevel column to indexed numerical value\n",
        "\n",
        "from pyspark.ml.feature import StringIndexer\n",
        "\n",
        "# Create an indexer\n",
        "indexer = StringIndexer(inputCol='userId', outputCol='userId_idx')\n",
        "\n",
        "# Indexer identifies categories in the data\n",
        "indexer_model = indexer.fit(customer_df_players)\n",
        "userId_idx = indexer_model.transform(customer_df_players)\n",
        "\n",
        "#Categorical transformation of  teamlevel column to indexed numerical value\n"
      ],
      "metadata": {
        "id": "F2aHDO4tDqZI"
      },
      "execution_count": null,
      "outputs": []
    },
    {
      "cell_type": "code",
      "source": [
        "from pyspark.ml.feature import StringIndexer\n",
        "\n",
        "# Create an indexer\n",
        "indexer = StringIndexer(inputCol='userSessionId', outputCol='userSessionId_idx')\n",
        "\n",
        "# Indexer identifies categories in the data\n",
        "indexer_model = indexer.fit(customer_df_players)\n",
        "userSessionId_idx = indexer_model.transform(customer_df_players)\n",
        "\n",
        "#Categorical transformation of  teamlevel column to indexed numerical value\n"
      ],
      "metadata": {
        "id": "emsUZpBrD2Jf"
      },
      "execution_count": null,
      "outputs": []
    },
    {
      "cell_type": "code",
      "source": [
        "from pyspark.ml.feature import StringIndexer\n",
        "\n",
        "# Create an indexer\n",
        "indexer = StringIndexer(inputCol='count_buyId_imputed', outputCol='count_buyId_imputed_idx')\n",
        "\n",
        "# Indexer identifies categories in the data\n",
        "indexer_model = indexer.fit(customer_df_players)\n",
        "count_buyId_imputed_idx = indexer_model.transform(customer_df_players)\n",
        "\n",
        "customer_df_players.columns\n"
      ],
      "metadata": {
        "colab": {
          "base_uri": "https://localhost:8080/"
        },
        "id": "ae4fmldVFkHt",
        "outputId": "6456506b-a31c-43d3-dafd-de1dda16a1f0"
      },
      "execution_count": null,
      "outputs": [
        {
          "output_type": "execute_result",
          "data": {
            "text/plain": [
              "['userId',\n",
              " 'userSessionId',\n",
              " 'teamLevel',\n",
              " 'platformType',\n",
              " 'count_hits',\n",
              " 'count_buyId',\n",
              " 'avg_price',\n",
              " 'count_buyId_imputed',\n",
              " 'avg_price_imputed',\n",
              " 'label']"
            ]
          },
          "metadata": {},
          "execution_count": 40
        }
      ]
    },
    {
      "cell_type": "code",
      "source": [
        "#Assembling columns\n",
        "\n",
        "from pyspark.ml.feature import VectorAssembler\n",
        "\n",
        "# Create an assembler object\n",
        "assembler = VectorAssembler(inputCols=[\n",
        "    'teamLevel', 'count_hits',\n",
        "    'count_buyId_imputed', \n",
        "    'avg_price_imputed'\n",
        "    \n",
        "], outputCol='features')\n"
      ],
      "metadata": {
        "id": "oGPO57xJFtl1"
      },
      "execution_count": null,
      "outputs": []
    },
    {
      "cell_type": "code",
      "source": [
        "# Consolidate predictor columns\n",
        "customer_assembled = assembler.transform(customer_df_players)\n",
        "\n",
        "# Check the resulting column\n",
        "customer_assembled.select('features', 'label').show(5, truncate=False)\n"
      ],
      "metadata": {
        "colab": {
          "base_uri": "https://localhost:8080/"
        },
        "id": "dSxq-EXgF0Vv",
        "outputId": "5d78295c-15c8-48d0-cd92-249276937b4d"
      },
      "execution_count": null,
      "outputs": [
        {
          "output_type": "stream",
          "name": "stdout",
          "text": [
            "+-------------------------------+-----+\n",
            "|features                       |label|\n",
            "+-------------------------------+-----+\n",
            "|[1.0,8.0,1.0,7.214323175053155]|0    |\n",
            "|[1.0,5.0,1.0,7.214323175053155]|0    |\n",
            "|[1.0,2.0,1.0,7.214323175053155]|0    |\n",
            "|[1.0,4.0,1.0,7.214323175053155]|0    |\n",
            "|[1.0,0.0,1.0,1.0]              |0    |\n",
            "+-------------------------------+-----+\n",
            "only showing top 5 rows\n",
            "\n"
          ]
        }
      ]
    },
    {
      "cell_type": "code",
      "source": [
        "\"\"\"Decision Tree\n",
        "Train/test split To objectively assess a Machine Learning model you need to be able to test it on an independent set of data. You can't use the same data that you used to train the model: of course the model will perform (relatively) well on those data!\n",
        "\n",
        "You will split the data into two components:\n",
        "\n",
        "training data (used to train the model) and testing data (used to test the model).**bold text**\n",
        "\n",
        "\"\"\"\n",
        "\n",
        "# Split into training and test sets in a 70:30 ratio\n",
        "customers_train, customers_test = customer_assembled.randomSplit([0.8, 0.2], seed=17)\n",
        "\n",
        "# Check that training set has around 70% of records\n",
        "training_ratio = customers_train.count() / customer_assembled.count()\n",
        "print(training_ratio)\n",
        "\n",
        "customers_test.show(2)"
      ],
      "metadata": {
        "colab": {
          "base_uri": "https://localhost:8080/"
        },
        "id": "iUVV0sPDGKxf",
        "outputId": "02497698-b142-40f1-a061-5f1f8547a3c6"
      },
      "execution_count": null,
      "outputs": [
        {
          "output_type": "stream",
          "name": "stdout",
          "text": [
            "0.6958216064083135\n",
            "+------+-------------+---------+------------+----------+-----------+---------+-------------------+-----------------+-----+--------------------+\n",
            "|userId|userSessionId|teamLevel|platformType|count_hits|count_buyId|avg_price|count_buyId_imputed|avg_price_imputed|label|            features|\n",
            "+------+-------------+---------+------------+----------+-----------+---------+-------------------+-----------------+-----+--------------------+\n",
            "|     0|        23473|        1|      iphone|        28|       null|     null|                  1|7.214323175053155|    1|[1.0,28.0,1.0,7.2...|\n",
            "|     1|        10041|        3|     android|         9|          2|      3.0|                  2|              3.0|    0|   [3.0,9.0,2.0,3.0]|\n",
            "+------+-------------+---------+------------+----------+-----------+---------+-------------------+-----------------+-----+--------------------+\n",
            "only showing top 2 rows\n",
            "\n"
          ]
        }
      ]
    },
    {
      "cell_type": "code",
      "source": [
        "\"\"\"Build a Decision Tree\n",
        "Now that you've split the data into training and testing sets, you can use the training set to fit a Decision Tree model.\n",
        "\"\"\"\n",
        "\n",
        "from pyspark.ml.classification import DecisionTreeClassifier\n",
        "\n",
        "# Create a classifier object and fit to the training data\n",
        "tree = DecisionTreeClassifier()\n",
        "tree_model = tree.fit(customers_train)\n",
        "\n",
        "tree_model"
      ],
      "metadata": {
        "colab": {
          "base_uri": "https://localhost:8080/"
        },
        "id": "zIm3HNMUGdLj",
        "outputId": "631e8932-d711-498f-cc65-555cca5d5818"
      },
      "execution_count": null,
      "outputs": [
        {
          "output_type": "execute_result",
          "data": {
            "text/plain": [
              "DecisionTreeClassificationModel: uid=DecisionTreeClassifier_2fa045972435, depth=5, numNodes=39, numClasses=2, numFeatures=4"
            ]
          },
          "metadata": {},
          "execution_count": 44
        }
      ]
    },
    {
      "cell_type": "code",
      "source": [
        "# Create predictions for the testing data and take a look at the predictions\n",
        "prediction = tree_model.transform(customers_test)\n",
        "prediction.select('label', 'prediction', 'probability').show(5, False)\n",
        "\n",
        "\"\"\"Evaluate the Decision Tree\n",
        "You can assess the quality of your model by evaluating how well it performs on the testing data. Because the model was not trained on these data, this represents an objective assessment of the model.\n",
        "\n",
        "A confusion matrix gives a useful breakdown of predictions versus known values. It has four cells which represent the counts of:\n",
        "\n",
        "True Negatives (TN) — model predicts negative outcome & known outcome is negative True Positives (TP) — model predicts positive outcome & known outcome is positive False Negatives (FN) — model predicts negative outcome but known outcome is positive False Positives (FP) — model predicts positive outcome but known outcome is negative.\n",
        "\"\"\"\n",
        "\n",
        "# Create a confusion matrix\n",
        "prediction.groupBy('label', 'prediction').count().show()\n"
      ],
      "metadata": {
        "colab": {
          "base_uri": "https://localhost:8080/"
        },
        "id": "a8DY0pjxGoER",
        "outputId": "beff0670-2ede-451a-c3ef-0ceff4b43884"
      },
      "execution_count": null,
      "outputs": [
        {
          "output_type": "stream",
          "name": "stdout",
          "text": [
            "+-----+----------+-----------------------------------------+\n",
            "|label|prediction|probability                              |\n",
            "+-----+----------+-----------------------------------------+\n",
            "|1    |1.0       |[0.005454545454545455,0.9945454545454545]|\n",
            "|0    |0.0       |[0.9925,0.0075]                          |\n",
            "|0    |0.0       |[0.9137055837563451,0.08629441624365482] |\n",
            "|0    |0.0       |[0.5764705882352941,0.4235294117647059]  |\n",
            "|0    |0.0       |[0.9925,0.0075]                          |\n",
            "+-----+----------+-----------------------------------------+\n",
            "only showing top 5 rows\n",
            "\n",
            "+-----+----------+-----+\n",
            "|label|prediction|count|\n",
            "+-----+----------+-----+\n",
            "|    1|       0.0|   76|\n",
            "|    0|       0.0|  934|\n",
            "|    1|       1.0|  341|\n",
            "|    0|       1.0|   54|\n",
            "+-----+----------+-----+\n",
            "\n"
          ]
        }
      ]
    },
    {
      "cell_type": "code",
      "source": [
        "# Create a confusion matrix\n",
        "prediction.groupBy('label', 'prediction').count().show()\n",
        "\n",
        "# Calculate the elements of the confusion matrix\n",
        "TN = prediction.filter('prediction = 0 AND label = prediction').count()\n",
        "TP = prediction.filter('prediction = 1 AND label = prediction').count()\n",
        "FN = prediction.filter('prediction = 0 AND label = 1').count()\n",
        "FP = prediction.filter('prediction = 1 AND label = 0').count()\n",
        "\n",
        "# Accuracy measures the proportion of correct predictions\n",
        "accuracy = (TN + TP) / (TN + TP + FN + FP)\n",
        "print(accuracy)\n",
        "\n",
        "tree_model.featureImportances"
      ],
      "metadata": {
        "colab": {
          "base_uri": "https://localhost:8080/"
        },
        "id": "7WfPhjNBGuBt",
        "outputId": "ea136ad9-a047-45e8-c953-e4201181f9aa"
      },
      "execution_count": null,
      "outputs": [
        {
          "output_type": "stream",
          "name": "stdout",
          "text": [
            "0.9074733096085409\n"
          ]
        },
        {
          "output_type": "execute_result",
          "data": {
            "text/plain": [
              "SparseVector(4, {0: 0.0037, 1: 0.9792, 2: 0.0071, 3: 0.0099})"
            ]
          },
          "metadata": {},
          "execution_count": 46
        }
      ]
    }
  ]
}