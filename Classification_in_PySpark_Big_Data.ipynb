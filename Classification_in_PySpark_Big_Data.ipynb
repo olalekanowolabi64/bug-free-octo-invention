{
  "cells": [
    {
      "cell_type": "markdown",
      "metadata": {
        "id": "view-in-github",
        "colab_type": "text"
      },
      "source": [
        "<a href=\"https://colab.research.google.com/github/olalekanowolabi64/bug-free-octo-invention/blob/master/Classification_in_PySpark_Big_Data.ipynb\" target=\"_parent\"><img src=\"https://colab.research.google.com/assets/colab-badge.svg\" alt=\"Open In Colab\"/></a>"
      ]
    },
    {
      "cell_type": "markdown",
      "metadata": {
        "id": "6SA7wAPS59TG"
      },
      "source": [
        "# Classification in PySpark\n",
        "> Now that you are familiar with getting data into Spark, you'll move onto building two types of classification model - Decision Trees and Logistic Regression. \n",
        "\n",
        "credit: This notebook is inspired from datacamp machine learning with spark course"
      ]
    },
    {
      "cell_type": "markdown",
      "source": [
        "#Setting up PySpark in Colab\n",
        "Spark is written in the Scala programming language and requires the Java Virtual Machine (JVM) to run. Therefore, our first task is to download Java.\n"
      ],
      "metadata": {
        "id": "dbSoOzXS7LRo"
      }
    },
    {
      "cell_type": "code",
      "source": [
        "!apt-get install openjdk-8-jdk-headless"
      ],
      "metadata": {
        "colab": {
          "base_uri": "https://localhost:8080/"
        },
        "id": "aD11wt_m7Nh8",
        "outputId": "1b0bc1b7-0e38-47b9-b1e4-c18d923280cc"
      },
      "execution_count": null,
      "outputs": [
        {
          "output_type": "stream",
          "name": "stdout",
          "text": [
            "Reading package lists... Done\n",
            "Building dependency tree       \n",
            "Reading state information... Done\n",
            "The following package was automatically installed and is no longer required:\n",
            "  libnvidia-common-460\n",
            "Use 'apt autoremove' to remove it.\n",
            "The following additional packages will be installed:\n",
            "  openjdk-8-jre-headless\n",
            "Suggested packages:\n",
            "  openjdk-8-demo openjdk-8-source libnss-mdns fonts-dejavu-extra\n",
            "  fonts-ipafont-gothic fonts-ipafont-mincho fonts-wqy-microhei\n",
            "  fonts-wqy-zenhei fonts-indic\n",
            "The following NEW packages will be installed:\n",
            "  openjdk-8-jdk-headless openjdk-8-jre-headless\n",
            "0 upgraded, 2 newly installed, 0 to remove and 42 not upgraded.\n",
            "Need to get 36.5 MB of archives.\n",
            "After this operation, 143 MB of additional disk space will be used.\n",
            "Get:1 http://archive.ubuntu.com/ubuntu bionic-updates/universe amd64 openjdk-8-jre-headless amd64 8u312-b07-0ubuntu1~18.04 [28.2 MB]\n",
            "Get:2 http://archive.ubuntu.com/ubuntu bionic-updates/universe amd64 openjdk-8-jdk-headless amd64 8u312-b07-0ubuntu1~18.04 [8,298 kB]\n",
            "Fetched 36.5 MB in 2s (15.7 MB/s)\n",
            "Selecting previously unselected package openjdk-8-jre-headless:amd64.\n",
            "(Reading database ... 155629 files and directories currently installed.)\n",
            "Preparing to unpack .../openjdk-8-jre-headless_8u312-b07-0ubuntu1~18.04_amd64.deb ...\n",
            "Unpacking openjdk-8-jre-headless:amd64 (8u312-b07-0ubuntu1~18.04) ...\n",
            "Selecting previously unselected package openjdk-8-jdk-headless:amd64.\n",
            "Preparing to unpack .../openjdk-8-jdk-headless_8u312-b07-0ubuntu1~18.04_amd64.deb ...\n",
            "Unpacking openjdk-8-jdk-headless:amd64 (8u312-b07-0ubuntu1~18.04) ...\n",
            "Setting up openjdk-8-jre-headless:amd64 (8u312-b07-0ubuntu1~18.04) ...\n",
            "update-alternatives: using /usr/lib/jvm/java-8-openjdk-amd64/jre/bin/orbd to provide /usr/bin/orbd (orbd) in auto mode\n",
            "update-alternatives: using /usr/lib/jvm/java-8-openjdk-amd64/jre/bin/servertool to provide /usr/bin/servertool (servertool) in auto mode\n",
            "update-alternatives: using /usr/lib/jvm/java-8-openjdk-amd64/jre/bin/tnameserv to provide /usr/bin/tnameserv (tnameserv) in auto mode\n",
            "Setting up openjdk-8-jdk-headless:amd64 (8u312-b07-0ubuntu1~18.04) ...\n",
            "update-alternatives: using /usr/lib/jvm/java-8-openjdk-amd64/bin/idlj to provide /usr/bin/idlj (idlj) in auto mode\n",
            "update-alternatives: using /usr/lib/jvm/java-8-openjdk-amd64/bin/wsimport to provide /usr/bin/wsimport (wsimport) in auto mode\n",
            "update-alternatives: using /usr/lib/jvm/java-8-openjdk-amd64/bin/jsadebugd to provide /usr/bin/jsadebugd (jsadebugd) in auto mode\n",
            "update-alternatives: using /usr/lib/jvm/java-8-openjdk-amd64/bin/native2ascii to provide /usr/bin/native2ascii (native2ascii) in auto mode\n",
            "update-alternatives: using /usr/lib/jvm/java-8-openjdk-amd64/bin/javah to provide /usr/bin/javah (javah) in auto mode\n",
            "update-alternatives: using /usr/lib/jvm/java-8-openjdk-amd64/bin/hsdb to provide /usr/bin/hsdb (hsdb) in auto mode\n",
            "update-alternatives: using /usr/lib/jvm/java-8-openjdk-amd64/bin/clhsdb to provide /usr/bin/clhsdb (clhsdb) in auto mode\n",
            "update-alternatives: using /usr/lib/jvm/java-8-openjdk-amd64/bin/xjc to provide /usr/bin/xjc (xjc) in auto mode\n",
            "update-alternatives: using /usr/lib/jvm/java-8-openjdk-amd64/bin/schemagen to provide /usr/bin/schemagen (schemagen) in auto mode\n",
            "update-alternatives: using /usr/lib/jvm/java-8-openjdk-amd64/bin/extcheck to provide /usr/bin/extcheck (extcheck) in auto mode\n",
            "update-alternatives: using /usr/lib/jvm/java-8-openjdk-amd64/bin/jhat to provide /usr/bin/jhat (jhat) in auto mode\n",
            "update-alternatives: using /usr/lib/jvm/java-8-openjdk-amd64/bin/wsgen to provide /usr/bin/wsgen (wsgen) in auto mode\n"
          ]
        }
      ]
    },
    {
      "cell_type": "markdown",
      "source": [
        "Now install Spark 3.2.1 with Hadoop 2.7"
      ],
      "metadata": {
        "id": "7-gD52aV7R7s"
      }
    },
    {
      "cell_type": "code",
      "source": [
        "!wget https://archive.apache.org/dist/spark/spark-3.2.1/spark-3.2.1-bin-hadoop2.7.tgz\n"
      ],
      "metadata": {
        "colab": {
          "base_uri": "https://localhost:8080/"
        },
        "id": "04gzkksJ7WBY",
        "outputId": "7021118d-49b5-4e7b-cded-b50bb5e29888"
      },
      "execution_count": null,
      "outputs": [
        {
          "output_type": "stream",
          "name": "stdout",
          "text": [
            "--2022-05-19 08:31:43--  https://archive.apache.org/dist/spark/spark-3.2.1/spark-3.2.1-bin-hadoop2.7.tgz\n",
            "Resolving archive.apache.org (archive.apache.org)... 138.201.131.134, 2a01:4f8:172:2ec5::2\n",
            "Connecting to archive.apache.org (archive.apache.org)|138.201.131.134|:443... connected.\n",
            "HTTP request sent, awaiting response... 200 OK\n",
            "Length: 272637746 (260M) [application/x-gzip]\n",
            "Saving to: ‘spark-3.2.1-bin-hadoop2.7.tgz’\n",
            "\n",
            "spark-3.2.1-bin-had 100%[===================>] 260.01M  24.8MB/s    in 11s     \n",
            "\n",
            "2022-05-19 08:31:55 (23.8 MB/s) - ‘spark-3.2.1-bin-hadoop2.7.tgz’ saved [272637746/272637746]\n",
            "\n"
          ]
        }
      ]
    },
    {
      "cell_type": "markdown",
      "source": [
        " we just need to unzip that folder.\n"
      ],
      "metadata": {
        "id": "EHRa3Ewe7ZXg"
      }
    },
    {
      "cell_type": "code",
      "source": [
        "!tar xf /content/spark-3.2.1-bin-hadoop2.7.tgz\n"
      ],
      "metadata": {
        "id": "eI9gfk337a00"
      },
      "execution_count": null,
      "outputs": []
    },
    {
      "cell_type": "markdown",
      "source": [
        "There is one last thing that we need to install and that is the findspark library. It will locate Spark on the system and import it as a regular library.\n"
      ],
      "metadata": {
        "id": "sxJyruvY7s10"
      }
    },
    {
      "cell_type": "code",
      "source": [
        "!pip install -q findspark\n"
      ],
      "metadata": {
        "id": "6SJCgVHL7tM2"
      },
      "execution_count": null,
      "outputs": []
    },
    {
      "cell_type": "code",
      "source": [
        "import os\n",
        "os.environ[\"JAVA_HOME\"] = \"/usr/lib/jvm/java-8-openjdk-amd64\"\n",
        "os.environ[\"SPARK_HOME\"] = \"/content/spark-3.2.1-bin-hadoop2.7\""
      ],
      "metadata": {
        "id": "YZzbCbhc8URd"
      },
      "execution_count": null,
      "outputs": []
    },
    {
      "cell_type": "markdown",
      "source": [
        "We need to locate Spark in the system. For that, we import findspark and use the findspark.init() method."
      ],
      "metadata": {
        "id": "GNmcH1W-8XRx"
      }
    },
    {
      "cell_type": "code",
      "source": [
        "import findspark\n",
        "findspark.init()\n",
        "findspark.find()"
      ],
      "metadata": {
        "colab": {
          "base_uri": "https://localhost:8080/",
          "height": 36
        },
        "id": "DohPJLoD8Y75",
        "outputId": "aad34d88-047a-48d5-eda8-0d4f17279362"
      },
      "execution_count": null,
      "outputs": [
        {
          "output_type": "execute_result",
          "data": {
            "text/plain": [
              "'/content/spark-3.2.1-bin-hadoop2.7'"
            ],
            "application/vnd.google.colaboratory.intrinsic+json": {
              "type": "string"
            }
          },
          "metadata": {},
          "execution_count": 6
        }
      ]
    },
    {
      "cell_type": "markdown",
      "source": [
        "Now that we have installed all the necessary dependencies in Colab, it is time to set the environment path. This will enable us to run Pyspark in the Colab environment."
      ],
      "metadata": {
        "id": "fs3YxjYb8SIx"
      }
    },
    {
      "cell_type": "code",
      "execution_count": null,
      "metadata": {
        "id": "5dHOL9iB59TM"
      },
      "outputs": [],
      "source": [
        "import pyspark\n",
        "import numpy as np\n",
        "import pandas as pd"
      ]
    },
    {
      "cell_type": "markdown",
      "source": [
        "#Problem description\n",
        "\n",
        "In this exercise, you will develop two classifiers to perform a binary classification task - The objective is to predict whether a flight is likely to be delayed by at least 15 minutes (label 1) or not (label 0)."
      ],
      "metadata": {
        "id": "vN2WmAFkCw15"
      }
    },
    {
      "cell_type": "markdown",
      "metadata": {
        "id": "Sc0Orqbd59TP"
      },
      "source": [
        "## Data Preparation"
      ]
    },
    {
      "cell_type": "markdown",
      "metadata": {
        "id": "MSSqEXms59TP"
      },
      "source": [
        "### Removing columns and rows\n",
        "You previously loaded airline flight data from a CSV file. You're going to develop a model which will predict whether or not a given flight will be delayed.\n",
        "\n",
        "In this exercise you need to trim those data down by:\n",
        "\n",
        "1. removing an uninformative column and\n",
        "2. removing rows which do not have information about whether or not a flight was delayed."
      ]
    },
    {
      "cell_type": "code",
      "execution_count": null,
      "metadata": {
        "id": "arH_LBjQ59TQ",
        "outputId": "fabf8107-3bf1-4a74-a8a0-16d904da58c3",
        "colab": {
          "base_uri": "https://localhost:8080/"
        }
      },
      "outputs": [
        {
          "output_type": "stream",
          "name": "stdout",
          "text": [
            "+------+-------------+---------+------------+----------------+----------+-----------+---------+\n",
            "|userId|userSessionId|teamLevel|platformType|count_gameclicks|count_hits|count_buyId|avg_price|\n",
            "+------+-------------+---------+------------+----------------+----------+-----------+---------+\n",
            "|   812|         5648|        1|     android|              69|         8|       null|     null|\n",
            "|  1658|         5649|        1|      iphone|              31|         5|       null|     null|\n",
            "|  1589|         5650|        1|      iphone|              26|         2|       null|     null|\n",
            "|  1863|         5651|        1|     android|              35|         4|       null|     null|\n",
            "|   937|         5652|        1|     android|              39|         0|          1|      1.0|\n",
            "+------+-------------+---------+------------+----------------+----------+-----------+---------+\n",
            "only showing top 5 rows\n",
            "\n"
          ]
        }
      ],
      "source": [
        "from pyspark.sql import SparkSession\n",
        "\n",
        "spark = SparkSession.builder.master('local[*]').appName('Catch_Pink_Flamingo').getOrCreate()\n",
        "\n",
        "# Read data from CSV file\n",
        "combined_data = spark.read.csv('/content/combined-data1.csv', sep=',', header=True, inferSchema=True, nullValue='NA')\n",
        "\n",
        "combined_data.show(5)\n"
      ]
    },
    {
      "cell_type": "markdown",
      "source": [
        "#Total number of records"
      ],
      "metadata": {
        "id": "AgbyF6LQ-wC4"
      }
    },
    {
      "cell_type": "code",
      "source": [
        "combined_data.count()"
      ],
      "metadata": {
        "colab": {
          "base_uri": "https://localhost:8080/"
        },
        "id": "MqQaNfM--yk-",
        "outputId": "dc398930-0fc4-46fa-e5e4-826d3a8ea9f7"
      },
      "execution_count": null,
      "outputs": [
        {
          "output_type": "execute_result",
          "data": {
            "text/plain": [
              "4619"
            ]
          },
          "metadata": {},
          "execution_count": 10
        }
      ]
    },
    {
      "cell_type": "code",
      "execution_count": null,
      "metadata": {
        "id": "rNXqyikC59TR",
        "outputId": "c575270a-f29e-4e81-a9c6-ee4002271048",
        "colab": {
          "base_uri": "https://localhost:8080/"
        }
      },
      "outputs": [
        {
          "output_type": "stream",
          "name": "stdout",
          "text": [
            "1411\n"
          ]
        }
      ],
      "source": [
        "# Remove the 'userId' column\n",
        "combined_data_drop_column = combined_data.drop('userId','userSessionId')\n",
        "# Number of records with missing 'avg_price' values\n",
        "combined_data_drop_column.filter('avg_price is NULL').count()\n",
        "\n",
        "# Remove records with missing 'avg_price' values\n",
        "valid_avg_price = combined_data_drop_column.filter('avg_price IS NOT NULL')\n",
        "\n",
        "# Remove records with missing values in any column and get the number of remaining rows\n",
        "combined_data_cleaned = valid_avg_price.dropna()\n",
        "print(combined_data_cleaned.count())"
      ]
    },
    {
      "cell_type": "markdown",
      "metadata": {
        "id": "rQQkuDQp59TS"
      },
      "source": [
        "### Column manipulation\n",
        "The Federal Aviation Administration (FAA) considers a flight to be \"delayed\" when it arrives 15 minutes or more after its scheduled time.\n",
        "\n",
        "The next step of preparing the flight data has two parts:\n",
        "\n",
        "1. convert the units of distance, replacing the `mile` column with a `kmcolumn`; and\n",
        "2. create a Boolean column indicating whether or not a flight was delayed."
      ]
    },
    {
      "cell_type": "code",
      "execution_count": null,
      "metadata": {
        "id": "Jknf_C1i59TT",
        "outputId": "47263673-2a15-404f-c641-96bdcde11844",
        "colab": {
          "base_uri": "https://localhost:8080/"
        }
      },
      "outputs": [
        {
          "output_type": "stream",
          "name": "stdout",
          "text": [
            "+---------+------------+----------------+----------+-----------+---------+-----+\n",
            "|teamLevel|platformType|count_gameclicks|count_hits|count_buyId|avg_price|label|\n",
            "+---------+------------+----------------+----------+-----------+---------+-----+\n",
            "|        1|     android|              39|         0|          1|      1.0|    0|\n",
            "|        1|      iphone|             129|         9|          1|     10.0|    1|\n",
            "|        1|     android|             102|        14|          1|      5.0|    0|\n",
            "|        1|     android|              39|         4|          1|      3.0|    0|\n",
            "|        1|     android|              90|        10|          1|      3.0|    0|\n",
            "|        1|      iphone|              51|         8|          1|     20.0|    1|\n",
            "|        1|     android|              51|         6|          2|      2.5|    0|\n",
            "|        1|     android|              47|         5|          2|      2.0|    0|\n",
            "|        1|     android|              46|         7|          1|      1.0|    0|\n",
            "|        1|      iphone|              41|         6|          1|     20.0|    1|\n",
            "|        1|     android|              47|         7|          1|      3.0|    0|\n",
            "|        1|      iphone|              76|         7|          1|     20.0|    1|\n",
            "|        1|     android|              52|         2|          1|      3.0|    0|\n",
            "|        1|     android|              62|         9|          1|      3.0|    0|\n",
            "|        1|      iphone|             177|        25|          2|      7.5|    1|\n",
            "|        1|      iphone|              54|         5|          1|     10.0|    1|\n",
            "|        1|     android|              27|         4|          2|      4.0|    0|\n",
            "|        1|      iphone|              37|         2|          1|     20.0|    1|\n",
            "|        1|     android|              67|         5|          1|      1.0|    0|\n",
            "|        1|      iphone|              37|         5|          2|     11.5|    1|\n",
            "+---------+------------+----------------+----------+-----------+---------+-----+\n",
            "only showing top 20 rows\n",
            "\n"
          ]
        }
      ],
      "source": [
        "from pyspark.sql.functions import round\n",
        "\n",
        "\n",
        "# Create 'label' column indicating whether a user is HighRoller (1) or PennyPincher(0)\n",
        "combined_data_cleaned = combined_data_cleaned.withColumn('label', (combined_data_cleaned.avg_price >5).cast('integer'))\n",
        "\n",
        "# Check first five records\n",
        "combined_data_cleaned.show(20)\n"
      ]
    },
    {
      "cell_type": "markdown",
      "metadata": {
        "id": "DsU932I859TU"
      },
      "source": [
        "### Categorical columns\n",
        "In the flights data there are two columns, `carrier` and `org`, which hold categorical data. You need to transform those columns into indexed numerical values.\n",
        "\n"
      ]
    },
    {
      "cell_type": "code",
      "execution_count": null,
      "metadata": {
        "id": "dcKlOYT959TV"
      },
      "outputs": [],
      "source": [
        "from pyspark.ml.feature import StringIndexer\n",
        "\n",
        "# Create an indexer\n",
        "indexer = StringIndexer(inputCol='platformType', outputCol='platformType_idx')\n",
        "\n",
        "# Indexer identifies categories in the data\n",
        "indexer_model = indexer.fit(combined_data_cleaned)\n",
        "\n",
        "# Indexer creates a new column with numeric index values\n",
        "combData_indexed = indexer_model.transform(combined_data_cleaned)\n",
        "\n",
        "# Repeat the process for the other categorical feature\n",
        "#combData_indexed = StringIndexer(inputCol='org', outputCol='org_idx').fit(combData_indexed).transform(flights_indexed)"
      ]
    },
    {
      "cell_type": "markdown",
      "metadata": {
        "id": "LmnOCKpD59TV"
      },
      "source": [
        "### Assembling columns\n",
        "The final stage of data preparation is to consolidate all of the predictor columns into a single column.\n",
        "\n",
        "At present our data has the following predictor columns:\n",
        "\n",
        "- `mon`, `dom` and `dow`\n",
        "- `carrier_idx` (derived from `carrier`)\n",
        "- `org_idx` (derived from `org`)\n",
        "- `km`\n",
        "- `depart`\n",
        "- `duration`"
      ]
    },
    {
      "cell_type": "code",
      "execution_count": null,
      "metadata": {
        "id": "g0AyGMFP59TW",
        "outputId": "4fc9d1e8-9949-4c94-b759-b8d473c5a93b",
        "colab": {
          "base_uri": "https://localhost:8080/"
        }
      },
      "outputs": [
        {
          "output_type": "stream",
          "name": "stdout",
          "text": [
            "+------------------------+---------+\n",
            "|features                |avg_price|\n",
            "+------------------------+---------+\n",
            "|[1.0,1.0,39.0,0.0,1.0]  |1.0      |\n",
            "|[1.0,0.0,129.0,9.0,1.0] |10.0     |\n",
            "|[1.0,1.0,102.0,14.0,1.0]|5.0      |\n",
            "|[1.0,1.0,39.0,4.0,1.0]  |3.0      |\n",
            "|[1.0,1.0,90.0,10.0,1.0] |3.0      |\n",
            "+------------------------+---------+\n",
            "only showing top 5 rows\n",
            "\n"
          ]
        }
      ],
      "source": [
        "from pyspark.ml.feature import VectorAssembler\n",
        "\n",
        "# Create an assembler object\n",
        "assembler = VectorAssembler(inputCols=[\n",
        "    'teamLevel', 'platformType_idx', 'count_gameclicks',\n",
        "    'count_hits', \n",
        "    'count_buyId',\n",
        "], outputCol='features')\n",
        "\n",
        "# Consolidate predictor columns\n",
        "combData_assembled = assembler.transform(combData_indexed)\n",
        "\n",
        "# Check the resulting column\n",
        "combData_assembled.select('features', 'avg_price').show(5, truncate=False)"
      ]
    },
    {
      "cell_type": "markdown",
      "metadata": {
        "id": "MX9boxPM59TX"
      },
      "source": [
        "## Decision Tree\n"
      ]
    },
    {
      "cell_type": "markdown",
      "metadata": {
        "id": "uUhBIZUo59TX"
      },
      "source": [
        "### Train/test split\n",
        "To objectively assess a Machine Learning model you need to be able to test it on an independent set of data. You can't use the same data that you used to train the model: of course the model will perform (relatively) well on those data!\n",
        "\n",
        "You will split the data into two components:\n",
        "\n",
        "- training data (used to train the model) and\n",
        "- testing data (used to test the model)."
      ]
    },
    {
      "cell_type": "code",
      "execution_count": null,
      "metadata": {
        "id": "36a8TMVZ59TX",
        "outputId": "cda7c6fd-9a1d-4081-9884-8bf6663f5969",
        "colab": {
          "base_uri": "https://localhost:8080/"
        }
      },
      "outputs": [
        {
          "output_type": "stream",
          "name": "stdout",
          "text": [
            "0.8015591778880227\n"
          ]
        }
      ],
      "source": [
        "# Split into training and test sets in a 80:20 ratio\n",
        "combData_train, combData_test = combData_assembled.randomSplit([0.8, 0.2], seed=17)\n",
        "\n",
        "# Check that training set has around 80% of records\n",
        "training_ratio = combData_train.count() / combData_assembled.count()\n",
        "print(training_ratio)"
      ]
    },
    {
      "cell_type": "markdown",
      "metadata": {
        "id": "V5vo8kFk59TX"
      },
      "source": [
        "### Build a Decision Tree\n",
        "Now that you've split the flights data into training and testing sets, you can use the training set to fit a Decision Tree model."
      ]
    },
    {
      "cell_type": "code",
      "execution_count": null,
      "metadata": {
        "id": "Zj4G37ds59TY",
        "outputId": "2a2c73bb-f8bb-46f5-c0ce-5be7dc84fcbb",
        "colab": {
          "base_uri": "https://localhost:8080/"
        }
      },
      "outputs": [
        {
          "output_type": "stream",
          "name": "stdout",
          "text": [
            "+-----+----------+---------------------------------------+\n",
            "|label|prediction|probability                            |\n",
            "+-----+----------+---------------------------------------+\n",
            "|0    |0.0       |[0.8741258741258742,0.1258741258741259]|\n",
            "|0    |0.0       |[0.8741258741258742,0.1258741258741259]|\n",
            "|0    |0.0       |[0.8741258741258742,0.1258741258741259]|\n",
            "|0    |0.0       |[0.8741258741258742,0.1258741258741259]|\n",
            "|0    |0.0       |[0.8741258741258742,0.1258741258741259]|\n",
            "+-----+----------+---------------------------------------+\n",
            "only showing top 5 rows\n",
            "\n"
          ]
        }
      ],
      "source": [
        "from pyspark.ml.classification import DecisionTreeClassifier\n",
        "\n",
        "# Create a classifier object and fit to the training data\n",
        "tree = DecisionTreeClassifier()\n",
        "tree_model = tree.fit(combData_train)\n",
        "\n",
        "# Create predictions for the testing data and take a look at the predictions\n",
        "prediction = tree_model.transform(combData_test)\n",
        "prediction.select('label', 'prediction', 'probability').show(5, False)"
      ]
    },
    {
      "cell_type": "markdown",
      "metadata": {
        "id": "DAgFCt6859TY"
      },
      "source": [
        "### Evaluate the Decision Tree\n",
        "You can assess the quality of your model by evaluating how well it performs on the testing data. Because the model was not trained on these data, this represents an objective assessment of the model.\n",
        "\n",
        "A confusion matrix gives a useful breakdown of predictions versus known values. It has four cells which represent the counts of:\n",
        "\n",
        "- True Negatives (TN) — model predicts negative outcome & known outcome is negative\n",
        "- True Positives (TP) — model predicts positive outcome & known outcome is positive\n",
        "- False Negatives (FN) — model predicts negative outcome but known outcome is positive\n",
        "- False Positives (FP) — model predicts positive outcome but known outcome is negative."
      ]
    },
    {
      "cell_type": "code",
      "execution_count": null,
      "metadata": {
        "id": "TysO-BA159TZ",
        "outputId": "60de500f-3c19-4b82-b73a-3eec516e376c",
        "colab": {
          "base_uri": "https://localhost:8080/"
        }
      },
      "outputs": [
        {
          "output_type": "stream",
          "name": "stdout",
          "text": [
            "+-----+----------+-----+\n",
            "|label|prediction|count|\n",
            "+-----+----------+-----+\n",
            "|    1|       0.0|   19|\n",
            "|    0|       0.0|  144|\n",
            "|    1|       1.0|   93|\n",
            "|    0|       1.0|   24|\n",
            "+-----+----------+-----+\n",
            "\n",
            "0.8464285714285714\n"
          ]
        }
      ],
      "source": [
        "# Create a confusion matrix\n",
        "prediction.groupBy('label', 'prediction').count().show()\n",
        "\n",
        "# Calculate the elements of the confusion matrix\n",
        "TN = prediction.filter('prediction = 0 AND label = prediction').count()\n",
        "TP = prediction.filter('prediction = 1 AND label = prediction').count()\n",
        "FN = prediction.filter('prediction = 0 AND label = 1').count()\n",
        "FP = prediction.filter('prediction = 1 AND label = 0').count()\n",
        "\n",
        "# Accuracy measures the proportion of correct predictions\n",
        "accuracy = (TN + TP) / (TN + TP + FN + FP)\n",
        "print(accuracy)"
      ]
    },
    {
      "cell_type": "markdown",
      "metadata": {
        "id": "Fann34Lo59TZ"
      },
      "source": [
        "## Logistic Regression\n"
      ]
    },
    {
      "cell_type": "markdown",
      "metadata": {
        "id": "0UWkYY9I59Ta"
      },
      "source": [
        "### Build a Logistic Regression model\n",
        "You've already built a Decision Tree model using the flights data. Now you're going to create a Logistic Regression model on the same data.\n",
        "\n",
        "The objective is to predict whether a flight is likely to be delayed by at least 15 minutes (label 1) or not (label 0).\n",
        "\n",
        "Although you have a variety of predictors at your disposal, you'll only use the `mon`, `depart` and `duration` columns for the moment. These are numerical features which can immediately be used for a Logistic Regression model. You'll need to do a little more work before you can include categorical features."
      ]
    },
    {
      "cell_type": "code",
      "execution_count": null,
      "metadata": {
        "id": "1edswuvk59Ta",
        "outputId": "3f06422a-a716-4642-8953-42bc09311d16",
        "colab": {
          "base_uri": "https://localhost:8080/"
        }
      },
      "outputs": [
        {
          "output_type": "stream",
          "name": "stdout",
          "text": [
            "+-----+----------+-----+\n",
            "|label|prediction|count|\n",
            "+-----+----------+-----+\n",
            "|    1|       0.0|   18|\n",
            "|    0|       0.0|  143|\n",
            "|    1|       1.0|   94|\n",
            "|    0|       1.0|   25|\n",
            "+-----+----------+-----+\n",
            "\n"
          ]
        }
      ],
      "source": [
        "from pyspark.ml.classification import LogisticRegression\n",
        "\n",
        "# Selecting numeric columns\n",
        "combData_train_num = combData_train.select(\"teamLevel\", 'count_gameclicks', 'count_hits', 'features', 'label')\n",
        "combData_test_num = combData_test.select(\"teamLevel\", \"count_gameclicks\", \"count_hits\", 'features', 'label')\n",
        "\n",
        "# Create classifier object and train on training data\n",
        "logistic = LogisticRegression().fit(combData_train_num)\n",
        "\n",
        "# Create a predictions for the test data and show confusion matrix\n",
        "prediction = logistic.transform(combData_test_num)\n",
        "prediction.groupBy(\"label\", \"prediction\").count().show()"
      ]
    },
    {
      "cell_type": "markdown",
      "metadata": {
        "id": "pdra2hcl59Ta"
      },
      "source": [
        "### Evaluate the Logistic Regression model\n",
        "Accuracy is generally not a very reliable metric because it can be biased by the most common target class.\n",
        "\n",
        "There are two other useful metrics:\n",
        "\n",
        "- precision and\n",
        "- recall.\n",
        "\n",
        "Precision is the proportion of positive predictions which are correct. For all flights which are predicted to be delayed, what proportion is actually delayed?\n",
        "\n",
        "Recall is the proportion of positives outcomes which are correctly predicted. For all delayed flights, what proportion is correctly predicted by the model?\n",
        "\n",
        "The precision and recall are generally formulated in terms of the positive target class. But it's also possible to calculate weighted versions of these metrics which look at both target classes."
      ]
    },
    {
      "cell_type": "code",
      "execution_count": null,
      "metadata": {
        "id": "6v0OHHPe59Tb"
      },
      "outputs": [],
      "source": [
        "# Calculate the elements of the confusion matrix\n",
        "TN = prediction.filter('prediction = 0 AND label = prediction').count()\n",
        "TP = prediction.filter('prediction = 1 AND label = prediction').count()\n",
        "FN = prediction.filter('prediction = 0 AND label = 1').count()\n",
        "FP = prediction.filter('prediction = 1 AND label = 0').count()"
      ]
    },
    {
      "cell_type": "code",
      "execution_count": null,
      "metadata": {
        "id": "0AIzg8J159Tb",
        "outputId": "8177eb55-f3eb-43cf-f126-38ae80a82d36",
        "colab": {
          "base_uri": "https://localhost:8080/"
        }
      },
      "outputs": [
        {
          "output_type": "stream",
          "name": "stdout",
          "text": [
            "precision = 0.79\n",
            "recall   = 0.84\n"
          ]
        }
      ],
      "source": [
        "from pyspark.ml.evaluation import MulticlassClassificationEvaluator, BinaryClassificationEvaluator\n",
        "\n",
        "# Calculate precision and recall\n",
        "precision = TP / (TP + FP)\n",
        "recall = TP / (TP + FN)\n",
        "print('precision = {:.2f}\\nrecall   = {:.2f}'.format(precision, recall))\n",
        "\n",
        "# Find weighted precision\n",
        "multi_evaluator = MulticlassClassificationEvaluator()\n",
        "weighted_precision = multi_evaluator.evaluate(prediction, {multi_evaluator.metricName: \"weightedPrecision\"})\n",
        "\n",
        "# Find AUC\n",
        "binary_evaluator = BinaryClassificationEvaluator()\n",
        "auc = binary_evaluator.evaluate(prediction, {binary_evaluator.metricName: \"areaUnderROC\"})"
      ]
    }
  ],
  "metadata": {
    "kernelspec": {
      "display_name": "Python 3",
      "language": "python",
      "name": "python3"
    },
    "language_info": {
      "codemirror_mode": {
        "name": "ipython",
        "version": 3
      },
      "file_extension": ".py",
      "mimetype": "text/x-python",
      "name": "python",
      "nbconvert_exporter": "python",
      "pygments_lexer": "ipython3",
      "version": "3.7.6"
    },
    "colab": {
      "name": "Classification-in-PySpark_Big Data.ipynb",
      "provenance": [],
      "include_colab_link": true
    }
  },
  "nbformat": 4,
  "nbformat_minor": 0
}